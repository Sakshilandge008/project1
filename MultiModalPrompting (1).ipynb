{
  "cells": [
    {
      "cell_type": "code",
      "execution_count": null,
      "id": "141508a7",
      "metadata": {
        "id": "141508a7",
        "outputId": "d8f56efe-acbb-4607-d0d4-dd9338dc5445",
        "colab": {
          "base_uri": "https://localhost:8080/"
        }
      },
      "outputs": [
        {
          "output_type": "stream",
          "name": "stdout",
          "text": [
            "Collecting groq\n",
            "  Downloading groq-0.11.0-py3-none-any.whl.metadata (13 kB)\n",
            "Requirement already satisfied: anyio<5,>=3.5.0 in /usr/local/lib/python3.10/dist-packages (from groq) (3.7.1)\n",
            "Requirement already satisfied: distro<2,>=1.7.0 in /usr/local/lib/python3.10/dist-packages (from groq) (1.9.0)\n",
            "Requirement already satisfied: httpx<1,>=0.23.0 in /usr/local/lib/python3.10/dist-packages (from groq) (0.27.2)\n",
            "Requirement already satisfied: pydantic<3,>=1.9.0 in /usr/local/lib/python3.10/dist-packages (from groq) (2.9.2)\n",
            "Requirement already satisfied: sniffio in /usr/local/lib/python3.10/dist-packages (from groq) (1.3.1)\n",
            "Requirement already satisfied: typing-extensions<5,>=4.7 in /usr/local/lib/python3.10/dist-packages (from groq) (4.12.2)\n",
            "Requirement already satisfied: idna>=2.8 in /usr/local/lib/python3.10/dist-packages (from anyio<5,>=3.5.0->groq) (3.10)\n",
            "Requirement already satisfied: exceptiongroup in /usr/local/lib/python3.10/dist-packages (from anyio<5,>=3.5.0->groq) (1.2.2)\n",
            "Requirement already satisfied: certifi in /usr/local/lib/python3.10/dist-packages (from httpx<1,>=0.23.0->groq) (2024.8.30)\n",
            "Requirement already satisfied: httpcore==1.* in /usr/local/lib/python3.10/dist-packages (from httpx<1,>=0.23.0->groq) (1.0.6)\n",
            "Requirement already satisfied: h11<0.15,>=0.13 in /usr/local/lib/python3.10/dist-packages (from httpcore==1.*->httpx<1,>=0.23.0->groq) (0.14.0)\n",
            "Requirement already satisfied: annotated-types>=0.6.0 in /usr/local/lib/python3.10/dist-packages (from pydantic<3,>=1.9.0->groq) (0.7.0)\n",
            "Requirement already satisfied: pydantic-core==2.23.4 in /usr/local/lib/python3.10/dist-packages (from pydantic<3,>=1.9.0->groq) (2.23.4)\n",
            "Downloading groq-0.11.0-py3-none-any.whl (106 kB)\n",
            "\u001b[2K   \u001b[90m━━━━━━━━━━━━━━━━━━━━━━━━━━━━━━━━━━━━━━━━\u001b[0m \u001b[32m106.5/106.5 kB\u001b[0m \u001b[31m2.9 MB/s\u001b[0m eta \u001b[36m0:00:00\u001b[0m\n",
            "\u001b[?25hInstalling collected packages: groq\n",
            "Successfully installed groq-0.11.0\n"
          ]
        }
      ],
      "source": [
        "!pip install groq"
      ]
    },
    {
      "cell_type": "code",
      "source": [
        "image_url = \"https://media.springernature.com/lw703/springer-static/image/art%3A10.1038%2F528452a/MediaObjects/41586_2015_Article_BF528452a_Figg_HTML.jpg\"\n",
        "\n",
        "import base64\n",
        "import httpx\n",
        "from pathlib import Path\n",
        "\n",
        "def encode_image(image_source):\n",
        "    \"\"\"\n",
        "    Encode an image from either a URL or local file path to base64.\n",
        "\n",
        "    Args:\n",
        "        image_source (str): Either a URL starting with 'http'/'https' or a local file path\n",
        "\n",
        "    Returns:\n",
        "        str: Base64 encoded image data\n",
        "    \"\"\"\n",
        "    try:\n",
        "        # Check if the source is a URL\n",
        "        if image_source.lower().startswith(('http://', 'https://')):\n",
        "            # Handle web image\n",
        "            image_data = base64.b64encode(httpx.get(image_source).content).decode('utf-8')\n",
        "        else:\n",
        "            # Handle local file\n",
        "            path = Path(image_source)\n",
        "            if not path.exists():\n",
        "                raise FileNotFoundError(f\"Image file not found: {image_source}\")\n",
        "\n",
        "            with open(path, 'rb') as image_file:\n",
        "                image_data = base64.b64encode(image_file.read()).decode('utf-8')\n",
        "\n",
        "        return image_data\n",
        "\n",
        "    except Exception as e:\n",
        "        raise Exception(f\"Error encoding image: {str(e)}\")\n",
        "\n",
        "image_data = encode_image(image_url)"
      ],
      "metadata": {
        "id": "biddPHXZqmhD"
      },
      "id": "biddPHXZqmhD",
      "execution_count": null,
      "outputs": []
    },
    {
      "cell_type": "code",
      "source": [
        "import os\n",
        "from groq import Groq\n",
        "\n",
        "os.environ[\"GROQ_API_KEY\"] = \"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\"\n",
        "\n",
        "client = Groq()\n",
        "llava_model = 'llava-v1.5-7b-4096-preview'\n",
        "llama31_model = 'llama-3.1-70b-versatile'\n",
        "\n",
        "## Code copied with gratitude from: https://mer.vin/2024/09/groq-multi-modal/\n",
        "def image_to_text(client, model, base64_image, prompt):\n",
        "    chat_completion = client.chat.completions.create(\n",
        "        messages=[\n",
        "            {\n",
        "                \"role\": \"user\",\n",
        "                \"content\": [\n",
        "                    {\"type\": \"text\", \"text\": prompt},\n",
        "                    {\n",
        "                        \"type\": \"image_url\",\n",
        "                        \"image_url\": {\n",
        "                            \"url\": f\"data:image/jpeg;base64,{base64_image}\",\n",
        "                        },\n",
        "                    },\n",
        "                ],\n",
        "            }\n",
        "        ],\n",
        "        model=model\n",
        "    )\n",
        "\n",
        "    return chat_completion.choices[0].message.content\n",
        "\n",
        "prompt = \"Describe the image\"\n",
        "image_description = image_to_text(client=client, model=llava_model, base64_image=image_data, prompt=prompt)\n",
        "print(image_description)"
      ],
      "metadata": {
        "id": "XTMIbLfKqsEY",
        "outputId": "a3629abb-8f8a-4f43-9361-ac986f103f8d",
        "colab": {
          "base_uri": "https://localhost:8080/"
        }
      },
      "id": "XTMIbLfKqsEY",
      "execution_count": null,
      "outputs": [
        {
          "output_type": "stream",
          "name": "stdout",
          "text": [
            "The image features two giant lizards or alligators laying on the grass in a grassy area. These large animals appear to be engaging in a wrestling match, creating an exciting scene. In the background, there is a body of water, which appears to be the ocean. The lizards are positioned close to each other, capturing the intense struggle between the two creatures.\n"
          ]
        }
      ]
    },
    {
      "cell_type": "code",
      "source": [
        "## Code copied with gratitude from: https://mer.vin/2024/09/groq-multi-modal/\n",
        "def short_story_generation(client, image_description, topic):\n",
        "    chat_completion = client.chat.completions.create(\n",
        "        messages=[\n",
        "            {\n",
        "                \"role\": \"system\",\n",
        "                \"content\": f\"You are a children's book author. Write a short story about the scene depicted in this image or images. The story is about Topic - {topic}\",\n",
        "            },\n",
        "            {\n",
        "                \"role\": \"user\",\n",
        "                \"content\": image_description,\n",
        "            }\n",
        "        ],\n",
        "        model=llama31_model\n",
        "    )\n",
        "\n",
        "    return chat_completion.choices[0].message.content\n",
        "\n",
        "prompt = '''\n",
        "Describe this image in detail, including the appearance of the people and any notable actions or behaviors.\n",
        "'''\n",
        "image_description = image_to_text(client, llava_model, image_data, prompt)\n",
        "\n",
        "topic = \"dad going away for work\"\n",
        "\n",
        "print(\"\\n\\n--- Image Description (Labradoodle) ---\\n\")\n",
        "print(image_description)\n",
        "\n",
        "print(\"\\n\\n--- Short Story (Based on Labradoodle) ---\\n\")\n",
        "print(short_story_generation(client, image_description, topic))"
      ],
      "metadata": {
        "id": "fJgA5cWuquOw",
        "outputId": "0adb22bd-e417-4468-df78-fa7f5ce59daa",
        "colab": {
          "base_uri": "https://localhost:8080/"
        }
      },
      "id": "fJgA5cWuquOw",
      "execution_count": null,
      "outputs": [
        {
          "output_type": "stream",
          "name": "stdout",
          "text": [
            "\n",
            "\n",
            "--- Image Description (Labradoodle) ---\n",
            "\n",
            "The image displays a group of hilarious comedic lizards in an open field, seeming to have a playful interaction as if engaged in an ongoing wrestling match. There are two main lizards, one on top of the other, creating an interesting and captivating scene. Two people can be seen close to the lizards, observing the entertaining spectacle. It appears to be a sunny day, and the lizards are capturing the attention of the nearby individuals.\n",
            "\n",
            "\n",
            "--- Short Story (Based on Labradoodle) ---\n",
            "\n",
            "That image doesn't match the scenario of 'Dad going away for work'. \n",
            "\n",
            "However, I would be happy to create a short story based on that topic for you. Here's one:\n",
            "\n",
            "---\n",
            "\n",
            "\"Benny's Big Goodbye\"\n",
            "\n",
            "Benny the little lizard lived in a cozy rock with his family in the open fields. He loved playing with his siblings and exploring the sunshine-kissed grasslands. But one day, his dad had to say goodbye.\n",
            "\n",
            "\"Daddy, why do you have a suitcase?\" Benny asked, his curious eyes wide with worry.\n",
            "\n",
            "\"I have to go to work, little one,\" his dad replied gently. \"I'll be gone for a few days, but I'll be back before you know it. You'll be brave, won't you?\"\n",
            "\n",
            "Benny nodded, trying to be brave. He hated it when his dad went away, but he knew it was important for their family.\n",
            "\n",
            "As they said their goodbyes, Benny's mom suggested they go for a walk to cheer him up. As they strolled through the fields, they stumbled upon two of Benny's friends, Lola and Leo, play-wrestling in the grass.\n",
            "\n",
            "Benny giggled at the sight of his friends rolling around, their tails flailing wildly. His mom sat down beside him, and they watched the commotion together.\n",
            "\n",
            "\"You know, Benny,\" his mom said, \"just like Lola and Leo, we'll be okay even when Daddy's away. We'll play, and explore, and have fun together until he comes back home.\"\n",
            "\n",
            "Benny smiled, feeling a little better. He took a deep breath and waved at his dad, who was walking away in the distance.\n",
            "\n",
            "\"Don't worry, Daddy,\" Benny called out. \"I'll be brave! Come back soon!\"\n",
            "\n",
            "His dad turned around and smiled, waving back at his little lizard son. Benny knew that even though his dad had to go away for work, he would always be with him in spirit.\n"
          ]
        }
      ]
    },
    {
      "cell_type": "code",
      "source": [
        "first_image = \"https://plus.unsplash.com/premium_photo-1664474619075-644dd191935f?fm=jpg&q=60&w=3000&ixlib=rb-4.0.3&ixid=M3wxMjA3fDB8MHxzZWFyY2h8MXx8aW1hZ2V8ZW58MHx8MHx8fDA%3D\"\n",
        "second_image = \"https://cdn.pixabay.com/photo/2018/08/14/13/23/ocean-3605547_640.jpg\"\n",
        "third_image = \"https://img.pikbest.com/png-images/20240718/lord-krishna-vector-design-image_10670443.png!w700wp\"\n",
        "\n",
        "image_data1 = encode_image(first_image)\n",
        "image_data2 = encode_image(second_image)\n",
        "image_data3 = encode_image(third_image)\n",
        "\n",
        "image_description1 = image_to_text(client, llava_model, image_data1, prompt)\n",
        "image_description2 = image_to_text(client, llava_model, image_data2, prompt)\n",
        "image_description3 = image_to_text(client, llava_model, image_data3, prompt)\n",
        "\n",
        "total_description = image_description1 + \"\\n\\n\" + image_description2 + \"\\n\\n\" + image_description3\n",
        "print(total_description)\n",
        "\n",
        "print(\"\\n\\n--- Short Story (Based on combined description) ---\\n\")\n",
        "print(short_story_generation(client, total_description, topic=topic))\n"
      ],
      "metadata": {
        "id": "IAd6T4u9qwLJ",
        "outputId": "4a8033cc-54fb-4bdf-8184-6a1f48aa22e4",
        "colab": {
          "base_uri": "https://localhost:8080/"
        }
      },
      "id": "IAd6T4u9qwLJ",
      "execution_count": null,
      "outputs": [
        {
          "output_type": "stream",
          "name": "stdout",
          "text": [
            "The image features a young woman wearing a hat, standing next to a street sidewalk. She's holding two different cameras, taking a photo aiming towards the left side. Her focus is likely on capturing a captivating picture. \n",
            "\n",
            "The scene also includes a couple of people in the background, one of them wearing a hat and another carrying a handbag. The area appears to be busy with pedestrians, which further emphasizes the street's bustling atmosphere.\n",
            "\n",
            "A small sailboat with two people on board is floating across a calm lake under a beautiful night sky during two different time frames. In the wilderness, the star is beginning to set, while the ship still rides the water. In the second frame, the sky is full of stars, and they are changing under a sky that lights up, highlighting their silhouetted forms. Each person on the boat appears to be playing with sparklers on the night, adding to the allure of the scene. The boat's location is on top of the large body of water at night, with a few clouds in the sky adding to the serene atmosphere. The combination of the ship's presence, the sparklers, and the night sky create a captivating and tranquil moment for the passengers, as they enjoy time at sea amidst the world-renowned beauty of the constellation.\n",
            "\n",
            "The image depicts a mythical Lord Krishna playing a flute or carnatic instrument with colorful gold and pink strings. Several clouds surround the ethereal figure, giving it an elevated and celestial appearance. The illustration has a colorful and intricate design, featuring yellow strings and a variety of jewels covering the figure of Lord Krishna. Pots are also present in the scene, but their significance is unclear. Overall, the image is a captivating representation of Lord Krishna's divine self-expression through playing his instrument.\n",
            "\n",
            "\n",
            "--- Short Story (Based on combined description) ---\n",
            "\n",
            "None of the images relate to a \"dad going away for work\" topic directly. However, I can still create a heartwarming story around this topic.\n",
            "\n",
            "\"Dad's Big Trip\"\n",
            "\n",
            "It was a sunny morning when Max's dad, John, prepared to leave for a big work trip. Max was going to miss him so much, but John reassured him that he would be back soon. As John packed his bags, Max noticed a polaroid camera on the kitchen counter.\n",
            "\n",
            "\"Dad, what's that?\" Max asked.\n",
            "\n",
            "\"I'm going to take it with me to capture some memories on my trip,\" John replied with a smile.\n",
            "\n",
            "Just then, John's wife, Sarah, took a photo of John and Max together using a different camera. She wanted to capture their special moment before John left.\n",
            "\n",
            "As they stood on the sidewalk outside their house, they saw people passing by, busy with their lives. But at that moment, all John and Max could think about was each other.\n",
            "\n",
            "After a long hug, John said goodbye to Max and Sarah. As he walked away, Max felt a bit sad, but he knew his dad would be back soon with stories to tell and pictures to show.\n",
            "\n",
            "Days passed, and Max looked at the starry sky through his window every night. He imagined his dad on a sailboat, like the ones he had seen on the lake nearby. He pictured his dad playing with sparklers, just like the ones they used to play with on special nights.\n",
            "\n",
            "John's work took him to a different part of the world, where he met people who told him about the beauty of Lord Krishna's music. John listened to the enchanting melodies and felt at peace, knowing that he would be reunited with his family soon.\n",
            "\n",
            "Finally, the day arrived when John returned home. He brought back polaroid pictures of the places he had visited and the people he had met. Max was thrilled to see the photos and hear his dad's stories.\n",
            "\n",
            "As they sat together on the couch, John told Max that even though he was away, he was always with him in spirit. Max hugged his dad tightly, feeling happy and content to have him back home.\n",
            "\n",
            "From that day on, Max learned to appreciate his dad's work trips, knowing that they brought new experiences and memories for their family to share.\n"
          ]
        }
      ]
    },
    {
      "cell_type": "code",
      "source": [],
      "metadata": {
        "id": "UjcIIpBBsBrg"
      },
      "id": "UjcIIpBBsBrg",
      "execution_count": null,
      "outputs": []
    }
  ],
  "metadata": {
    "kernelspec": {
      "display_name": "Python 3 (ipykernel)",
      "language": "python",
      "name": "python3"
    },
    "language_info": {
      "codemirror_mode": {
        "name": "ipython",
        "version": 3
      },
      "file_extension": ".py",
      "mimetype": "text/x-python",
      "name": "python",
      "nbconvert_exporter": "python",
      "pygments_lexer": "ipython3",
      "version": "3.10.9"
    },
    "colab": {
      "provenance": []
    }
  },
  "nbformat": 4,
  "nbformat_minor": 5
}